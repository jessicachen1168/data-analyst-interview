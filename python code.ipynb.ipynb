{
 "cells": [
  {
   "cell_type": "markdown",
   "metadata": {},
   "source": [
    "# PartI-- uncompress files and combine all txt files into one txt file"
   ]
  },
  {
   "cell_type": "code",
   "execution_count": 104,
   "metadata": {},
   "outputs": [],
   "source": [
    "#Change directory to where the ZIP file are stored\n",
    "import os\n",
    "import pandas as pd\n",
    "import zipfile\n",
    "import mysql.connector  \n",
    "os.chdir('C:/Users/jessi/Desktop/comfortdelgro assignment')"
   ]
  },
  {
   "cell_type": "code",
   "execution_count": 105,
   "metadata": {},
   "outputs": [],
   "source": [
    "path='C:/Users/jessi/Desktop/comfortdelgro assignment/2009.zip'\n",
    "#with zipfile.ZipFile(path,\"r\") as zip_ref:\n",
    "    #zip_ref..()\n",
    "gz=[]\n",
    "files_dir=zipfile.ZipFile(path)\n",
    "files_list = files_dir.infolist()\n",
    "for f in files_list:\n",
    "    if f.filename.endswith('gz'):\n",
    "        gz.append(f)\n",
    "        "
   ]
  },
  {
   "cell_type": "code",
   "execution_count": 106,
   "metadata": {},
   "outputs": [],
   "source": [
    "fact_data =pd.concat([pd.read_csv(files_dir.open(f),compression='gzip', header=0, delimiter=\"\\t\")\n",
    "for f in files_list if f.filename.endswith('gz')])"
   ]
  },
  {
   "cell_type": "code",
   "execution_count": 107,
   "metadata": {},
   "outputs": [],
   "source": [
    "fact_data=fact_data.rename(columns={'Date':\"DateID\"})"
   ]
  },
  {
   "cell_type": "code",
   "execution_count": 108,
   "metadata": {},
   "outputs": [
    {
     "data": {
      "text/plain": [
       "(1547897, 15)"
      ]
     },
     "execution_count": 108,
     "metadata": {},
     "output_type": "execute_result"
    }
   ],
   "source": [
    "fact_data.shape"
   ]
  },
  {
   "cell_type": "code",
   "execution_count": 109,
   "metadata": {},
   "outputs": [
    {
     "data": {
      "text/html": [
       "<div>\n",
       "<style scoped>\n",
       "    .dataframe tbody tr th:only-of-type {\n",
       "        vertical-align: middle;\n",
       "    }\n",
       "\n",
       "    .dataframe tbody tr th {\n",
       "        vertical-align: top;\n",
       "    }\n",
       "\n",
       "    .dataframe thead th {\n",
       "        text-align: right;\n",
       "    }\n",
       "</style>\n",
       "<table border=\"1\" class=\"dataframe\">\n",
       "  <thead>\n",
       "    <tr style=\"text-align: right;\">\n",
       "      <th></th>\n",
       "      <th>DateID</th>\n",
       "      <th>StoreID</th>\n",
       "      <th>StoreName</th>\n",
       "      <th>ProductID</th>\n",
       "      <th>ProductName</th>\n",
       "      <th>Color</th>\n",
       "      <th>Size</th>\n",
       "      <th>Manufacturer</th>\n",
       "      <th>OnHandQuantity</th>\n",
       "      <th>OnOrderQuantity</th>\n",
       "      <th>SafetyStockQuantity</th>\n",
       "      <th>UnitCost</th>\n",
       "      <th>DaysInStock</th>\n",
       "      <th>MinDayInStock</th>\n",
       "      <th>MaxDayInStock</th>\n",
       "    </tr>\n",
       "  </thead>\n",
       "  <tbody>\n",
       "    <tr>\n",
       "      <th>0</th>\n",
       "      <td>2009-01-03</td>\n",
       "      <td>1</td>\n",
       "      <td>Contoso Seattle No.1 Store</td>\n",
       "      <td>6</td>\n",
       "      <td>Contoso 2G MP3 Player E200 Black</td>\n",
       "      <td>Black</td>\n",
       "      <td>1.6 x 0.4 x 3.7</td>\n",
       "      <td>Contoso, Ltd</td>\n",
       "      <td>19</td>\n",
       "      <td>0</td>\n",
       "      <td>24</td>\n",
       "      <td>11.00</td>\n",
       "      <td>60</td>\n",
       "      <td>43</td>\n",
       "      <td>76</td>\n",
       "    </tr>\n",
       "    <tr>\n",
       "      <th>1</th>\n",
       "      <td>2009-01-03</td>\n",
       "      <td>1</td>\n",
       "      <td>Contoso Seattle No.1 Store</td>\n",
       "      <td>29</td>\n",
       "      <td>Contoso 32GB Video MP3 Player M3200 White</td>\n",
       "      <td>White</td>\n",
       "      <td>1 x 1.6 x 3.7</td>\n",
       "      <td>Contoso, Ltd</td>\n",
       "      <td>19</td>\n",
       "      <td>0</td>\n",
       "      <td>12</td>\n",
       "      <td>84.49</td>\n",
       "      <td>58</td>\n",
       "      <td>11</td>\n",
       "      <td>97</td>\n",
       "    </tr>\n",
       "    <tr>\n",
       "      <th>2</th>\n",
       "      <td>2009-01-03</td>\n",
       "      <td>1</td>\n",
       "      <td>Contoso Seattle No.1 Store</td>\n",
       "      <td>31</td>\n",
       "      <td>Contoso 32GB Video MP3 Player M3200 Orange</td>\n",
       "      <td>Orange</td>\n",
       "      <td>2.6 x 2.5 x 0.6</td>\n",
       "      <td>Contoso, Ltd</td>\n",
       "      <td>19</td>\n",
       "      <td>0</td>\n",
       "      <td>6</td>\n",
       "      <td>84.49</td>\n",
       "      <td>63</td>\n",
       "      <td>17</td>\n",
       "      <td>111</td>\n",
       "    </tr>\n",
       "    <tr>\n",
       "      <th>3</th>\n",
       "      <td>2009-01-03</td>\n",
       "      <td>1</td>\n",
       "      <td>Contoso Seattle No.1 Store</td>\n",
       "      <td>51</td>\n",
       "      <td>WWI 2GB Pulse Smart pen M100 Blue</td>\n",
       "      <td>Blue</td>\n",
       "      <td>6 x 0.5 x 0.5</td>\n",
       "      <td>Wide World Importers</td>\n",
       "      <td>19</td>\n",
       "      <td>0</td>\n",
       "      <td>6</td>\n",
       "      <td>91.95</td>\n",
       "      <td>79</td>\n",
       "      <td>12</td>\n",
       "      <td>86</td>\n",
       "    </tr>\n",
       "    <tr>\n",
       "      <th>4</th>\n",
       "      <td>2009-01-03</td>\n",
       "      <td>1</td>\n",
       "      <td>Contoso Seattle No.1 Store</td>\n",
       "      <td>54</td>\n",
       "      <td>WWI 4GB Video Recording Pen X200 Red</td>\n",
       "      <td>Red</td>\n",
       "      <td>5.1  x 2.4  x 3.9</td>\n",
       "      <td>Wide World Importers</td>\n",
       "      <td>23</td>\n",
       "      <td>4</td>\n",
       "      <td>18</td>\n",
       "      <td>98.07</td>\n",
       "      <td>30</td>\n",
       "      <td>30</td>\n",
       "      <td>71</td>\n",
       "    </tr>\n",
       "  </tbody>\n",
       "</table>\n",
       "</div>"
      ],
      "text/plain": [
       "       DateID  StoreID                   StoreName  ProductID  \\\n",
       "0  2009-01-03        1  Contoso Seattle No.1 Store          6   \n",
       "1  2009-01-03        1  Contoso Seattle No.1 Store         29   \n",
       "2  2009-01-03        1  Contoso Seattle No.1 Store         31   \n",
       "3  2009-01-03        1  Contoso Seattle No.1 Store         51   \n",
       "4  2009-01-03        1  Contoso Seattle No.1 Store         54   \n",
       "\n",
       "                                  ProductName   Color                Size  \\\n",
       "0            Contoso 2G MP3 Player E200 Black   Black     1.6 x 0.4 x 3.7   \n",
       "1   Contoso 32GB Video MP3 Player M3200 White   White       1 x 1.6 x 3.7   \n",
       "2  Contoso 32GB Video MP3 Player M3200 Orange  Orange     2.6 x 2.5 x 0.6   \n",
       "3           WWI 2GB Pulse Smart pen M100 Blue    Blue       6 x 0.5 x 0.5   \n",
       "4        WWI 4GB Video Recording Pen X200 Red     Red  5.1  x 2.4  x 3.9    \n",
       "\n",
       "           Manufacturer  OnHandQuantity  OnOrderQuantity  SafetyStockQuantity  \\\n",
       "0          Contoso, Ltd              19                0                   24   \n",
       "1          Contoso, Ltd              19                0                   12   \n",
       "2          Contoso, Ltd              19                0                    6   \n",
       "3  Wide World Importers              19                0                    6   \n",
       "4  Wide World Importers              23                4                   18   \n",
       "\n",
       "   UnitCost  DaysInStock  MinDayInStock  MaxDayInStock  \n",
       "0     11.00           60             43             76  \n",
       "1     84.49           58             11             97  \n",
       "2     84.49           63             17            111  \n",
       "3     91.95           79             12             86  \n",
       "4     98.07           30             30             71  "
      ]
     },
     "execution_count": 109,
     "metadata": {},
     "output_type": "execute_result"
    }
   ],
   "source": [
    "fact_data.head()"
   ]
  },
  {
   "cell_type": "code",
   "execution_count": 110,
   "metadata": {
    "scrolled": true
   },
   "outputs": [],
   "source": [
    "final_data= fact_data[['DateID','StoreID','ProductID','OnHandQuantity','OnOrderQuantity',\n",
    "             'DaysInStock', 'MinDayInStock','MaxDayInStock']]"
   ]
  },
  {
   "cell_type": "code",
   "execution_count": 111,
   "metadata": {},
   "outputs": [
    {
     "data": {
      "text/plain": [
       "(1547897, 8)"
      ]
     },
     "execution_count": 111,
     "metadata": {},
     "output_type": "execute_result"
    }
   ],
   "source": [
    "final_data.shape"
   ]
  },
  {
   "cell_type": "code",
   "execution_count": 112,
   "metadata": {},
   "outputs": [],
   "source": [
    "final_data.to_csv('fact_table.csv',index=False)"
   ]
  },
  {
   "cell_type": "markdown",
   "metadata": {},
   "source": [
    "# connect to  mysql database to compare primary keys&foreign keys for StoreID"
   ]
  },
  {
   "cell_type": "code",
   "execution_count": 169,
   "metadata": {},
   "outputs": [],
   "source": [
    "#find errors with violating foreign key(StoreID) when uploading fact_table.csv into factstore in mysql database"
   ]
  },
  {
   "cell_type": "code",
   "execution_count": 113,
   "metadata": {},
   "outputs": [],
   "source": [
    "  \n",
    "cnx = mysql.connector.connect(user='root', password='Alicechen118a',\n",
    "                              host='127.0.0.1',\n",
    "                              database='dbo')\n",
    "\n",
    "try:\n",
    "    cursor = cnx.cursor()\n",
    "    cursor.execute(\"\"\"\n",
    "      SELECT StoreID FROM dbo.dimstores;\n",
    "   \"\"\")\n",
    "    result = cursor.fetchall()\n",
    "    #print(result)\n",
    "finally:\n",
    "    cnx.close()"
   ]
  },
  {
   "cell_type": "code",
   "execution_count": 114,
   "metadata": {},
   "outputs": [],
   "source": [
    "Store_id = DataFrame(result,dtype=float)\n",
    "Store_id.columns=cursor.column_names"
   ]
  },
  {
   "cell_type": "code",
   "execution_count": 115,
   "metadata": {},
   "outputs": [],
   "source": [
    "Fact_storeID=pd.DataFrame(final_data['StoreID'].unique(),dtype=float)"
   ]
  },
  {
   "cell_type": "code",
   "execution_count": 116,
   "metadata": {},
   "outputs": [],
   "source": [
    "Fact_storeID=Fact_storeID.rename(columns={0:\"StoreID\"})"
   ]
  },
  {
   "cell_type": "code",
   "execution_count": 117,
   "metadata": {},
   "outputs": [
    {
     "data": {
      "text/plain": [
       "[227.0]"
      ]
     },
     "execution_count": 117,
     "metadata": {},
     "output_type": "execute_result"
    }
   ],
   "source": [
    "[i for i in Fact_storeID.StoreID.tolist() if i not in Store_id.StoreID.tolist()]"
   ]
  },
  {
   "cell_type": "code",
   "execution_count": 118,
   "metadata": {},
   "outputs": [],
   "source": [
    "final_data_v1=final_data[final_data.StoreID!=227]"
   ]
  },
  {
   "cell_type": "code",
   "execution_count": 119,
   "metadata": {},
   "outputs": [],
   "source": [
    "final_data_v1.to_csv('fact_table_v2.csv',index=False)"
   ]
  },
  {
   "cell_type": "code",
   "execution_count": 121,
   "metadata": {},
   "outputs": [
    {
     "data": {
      "text/plain": [
       "(1543893, 8)"
      ]
     },
     "execution_count": 121,
     "metadata": {},
     "output_type": "execute_result"
    }
   ],
   "source": [
    "final_data_v1.shape"
   ]
  },
  {
   "cell_type": "code",
   "execution_count": 120,
   "metadata": {},
   "outputs": [],
   "source": [
    "#in the end, upload this fact_table_v2 into mysql database dbo.factstore table"
   ]
  }
 ],
 "metadata": {
  "kernelspec": {
   "display_name": "Python 3",
   "language": "python",
   "name": "python3"
  },
  "language_info": {
   "codemirror_mode": {
    "name": "ipython",
    "version": 3
   },
   "file_extension": ".py",
   "mimetype": "text/x-python",
   "name": "python",
   "nbconvert_exporter": "python",
   "pygments_lexer": "ipython3",
   "version": "3.7.3"
  }
 },
 "nbformat": 4,
 "nbformat_minor": 2
}
